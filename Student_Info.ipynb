#jupyter notebook
#csv 파일 불러오기 및 확인
import pandas as pd
info = pd.read_csv("/Users/junsangwon/Desktop/profile_korean.csv", encoding = 'utf-8')
info

