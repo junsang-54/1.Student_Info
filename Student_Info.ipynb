#jupyter notebook
#csv 파일 불러오기 및 확인
import pandas as pd
info = pd.read_csv("/Users/junsangwon/Desktop/profile_korean.csv", encoding = 'utf-8')
info




#정보 찾기 함수 정의

def call():
    x = input("KSA 혁신성장 과정 학생 정보 시스템\n(검색을 원하시는 메뉴 번호를 입력해주세요)\n1.성명\n2.성별\n3.생년월일\n4.이메일\n5.멘토\n6.전화번호\n7.전공\n")
    if x == "1":
        a = input("성명을 입력해주세요.\n")
        for i in info.loc[i].iloc[0]:
            if a == info.loc[i].iloc[0]:
                print(info.loc[i].iloc[0])
                #print(info.loc[info.loc[0].iloc[i]])
            else:
                print("잘못된 정보 입니다. 다시 입력해주세요.")
        









    elif x == "2":
        b = input("성별을 입력해주세요.\n")
        for i in info.loc[i]:
            if b == info.loc[i]:
                print(info.loc[i])
            else:
                print("잘못된 정보 입니다. 다시 입력해주세요.")
                
    elif x == "3":
        c = input("생년월일을 입력해주세요.\n")
        for i in info.loc[i]:
            if c == info.loc[i]:
                print(info.loc[i])
            else:
                print("잘못된 정보 입니다. 다시 입력해주세요.")
                
    elif x == "4":
        d = input("이메일을 입력해주세요.\n")
        for i in info.loc[i]:
            if d == info.loc[i]:
                print(info.loc[i])
            else:
                print("잘못된 정보 입니다. 다시 입력해주세요.")
                
    elif x == "5":
        e = input("멘토기업을 입력해주세요.\n(11시11분, 5Works, 메가존 클라우드, 모코엠시스, 시네틱스, 씨닷츠)")
        for i in info.loc[i]:
            if e == info.loc[i]:
                print(info.loc[i])
            else:
                print("잘못된 정보 입니다. 다시 입력해주세요.")
                
    elif x == "6":
        f = input("전화번호를 입력해주세요.\n")
        for i in info.loc[i]:
            if f == info.loc[i]:
                print(info.loc[i])
            else:
                print("잘못된 정보 입니다. 다시 입력해주세요.")
                
    elif x == "7":
        g = input("전공을 입력해주세요.\n")
        for i in info.loc[i]:
            if g == info.loc[i]:
                print(info.loc[i])
            else:
                print("잘못된 정보 입니다. 다시 입력해주세요.")
                
    else:
        print("잘못된 정보 입니다. 다시 눌러주세요.")
        return call()
    
call()
